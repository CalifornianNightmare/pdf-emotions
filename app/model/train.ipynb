{
 "cells": [
  {
   "cell_type": "code",
   "execution_count": 1,
   "id": "7c1ef232",
   "metadata": {},
   "outputs": [],
   "source": [
    "MAX_SEQUENCE_LENGTH = 30\n",
    "MAX_NB_WORDS = 100000"
   ]
  },
  {
   "cell_type": "markdown",
   "id": "144652da",
   "metadata": {},
   "source": [
    "### Data preprocessing"
   ]
  },
  {
   "cell_type": "code",
   "execution_count": 2,
   "id": "f1307de3",
   "metadata": {},
   "outputs": [
    {
     "name": "stderr",
     "output_type": "stream",
     "text": [
      "/home/user/Projects/Temp/Jul 3/.venv/lib/python3.12/site-packages/tqdm/auto.py:21: TqdmWarning: IProgress not found. Please update jupyter and ipywidgets. See https://ipywidgets.readthedocs.io/en/stable/user_install.html\n",
      "  from .autonotebook import tqdm as notebook_tqdm\n"
     ]
    },
    {
     "name": "stdout",
     "output_type": "stream",
     "text": [
      "Loading training dataset.\n",
      "Path to dataset files: /home/user/.cache/kagglehub/datasets/anjaneyatripathi/emotion-classification-nlp/versions/1\n",
      "Files in directory:\n",
      "/home/user/.cache/kagglehub/datasets/anjaneyatripathi/emotion-classification-nlp/versions/1/emotion-labels-test.csv\n",
      "/home/user/.cache/kagglehub/datasets/anjaneyatripathi/emotion-classification-nlp/versions/1/data\n",
      "/home/user/.cache/kagglehub/datasets/anjaneyatripathi/emotion-classification-nlp/versions/1/emotion-labels-train.csv\n",
      "/home/user/.cache/kagglehub/datasets/anjaneyatripathi/emotion-classification-nlp/versions/1/emotion-labels-val.csv\n"
     ]
    }
   ],
   "source": [
    "import kagglehub\n",
    "from pathlib import Path\n",
    "import matplotlib.pyplot as plt\n",
    "import numpy as np\n",
    "\n",
    "# Dataset download\n",
    "print('Loading training dataset.')\n",
    "dataset_path = Path(kagglehub.dataset_download(\"anjaneyatripathi/emotion-classification-nlp\"))\n",
    "print('Path to dataset files:', dataset_path)\n",
    "print('Files in directory:')\n",
    "[print(x) for x in dataset_path.glob('**/*')]\n",
    "\n",
    "import pandas as pd\n",
    "\n",
    "df_test = pd.read_csv(dataset_path / 'emotion-labels-test.csv')\n",
    "df_train = pd.read_csv(dataset_path / 'emotion-labels-train.csv')\n",
    "df_valid = pd.read_csv(dataset_path / 'emotion-labels-val.csv')"
   ]
  },
  {
   "cell_type": "code",
   "execution_count": 3,
   "id": "98159586",
   "metadata": {},
   "outputs": [
    {
     "data": {
      "text/plain": [
       "Text(0.5, 1.0, 'Sentiment Data Distribution')"
      ]
     },
     "execution_count": 3,
     "metadata": {},
     "output_type": "execute_result"
    },
    {
     "data": {
      "image/png": "[encoded data removed]",
      "text/plain": [
       "<Figure size 800x400 with 1 Axes>"
      ]
     },
     "metadata": {},
     "output_type": "display_data"
    }
   ],
   "source": [
    "val_count = df_train.label.value_counts()\n",
    "\n",
    "plt.figure(figsize=(8,4))\n",
    "plt.bar(val_count.index, val_count.values)\n",
    "plt.title(\"Sentiment Data Distribution\")"
   ]
  },
  {
   "cell_type": "code",
   "execution_count": 4,
   "id": "f5967b50",
   "metadata": {},
   "outputs": [],
   "source": [
    "def dataset_to_XY(dataset: pd.DataFrame) -> pd.core.series.Series:\n",
    "    X = dataset['text']\n",
    "    y = dataset['label']\n",
    "\n",
    "    return X, y\n",
    "\n",
    "X_train, y_train = dataset_to_XY(df_train)\n",
    "X_test, y_test = dataset_to_XY(df_test)\n",
    "X_valid, y_valid = dataset_to_XY(df_valid)"
   ]
  },
  {
   "cell_type": "code",
   "execution_count": 5,
   "id": "32a2599b",
   "metadata": {},
   "outputs": [
    {
     "name": "stderr",
     "output_type": "stream",
     "text": [
      "<>:10: SyntaxWarning: invalid escape sequence '\\S'\n",
      "<>:10: SyntaxWarning: invalid escape sequence '\\S'\n",
      "/tmp/ipykernel_133702/1667561666.py:10: SyntaxWarning: invalid escape sequence '\\S'\n",
      "  text_cleaning_re = \"@\\S+|https?:\\S+|http?:\\S|[^A-Za-z0-9]+\"\n",
      "[nltk_data] Downloading package stopwords to /home/user/nltk_data...\n",
      "[nltk_data]   Package stopwords is already up-to-date!\n"
     ]
    }
   ],
   "source": [
    "import nltk \n",
    "nltk.download('stopwords')\n",
    "from nltk.corpus import stopwords\n",
    "from nltk.stem import SnowballStemmer\n",
    "import re\n",
    "\n",
    "stop_words = stopwords.words('english')\n",
    "stemmer = SnowballStemmer('english')\n",
    "\n",
    "text_cleaning_re = \"@\\S+|https?:\\S+|http?:\\S|[^A-Za-z0-9]+\"\n",
    "\n",
    "\n",
    "def clean_X(text: str):\n",
    "    stem=True\n",
    "    text = re.sub(text_cleaning_re, ' ', str(text).lower()).strip()\n",
    "    tokens = []\n",
    "    for token in text.split():\n",
    "        if token not in stop_words:\n",
    "            if stem:\n",
    "                tokens.append(stemmer.stem(token))\n",
    "            else:\n",
    "                tokens.append(token)\n",
    "    return \" \".join(tokens)"
   ]
  },
  {
   "cell_type": "code",
   "execution_count": null,
   "id": "bcde526b",
   "metadata": {},
   "outputs": [
    {
     "ename": "ModuleNotFoundError",
     "evalue": "No module named 'keras.preprocessing.text'",
     "output_type": "error",
     "traceback": [
      "\u001b[31m---------------------------------------------------------------------------\u001b[39m",
      "\u001b[31mModuleNotFoundError\u001b[39m                       Traceback (most recent call last)",
      "\u001b[36mCell\u001b[39m\u001b[36m \u001b[39m\u001b[32mIn[59]\u001b[39m\u001b[32m, line 1\u001b[39m\n\u001b[32m----> \u001b[39m\u001b[32m1\u001b[39m \u001b[38;5;28;01mfrom\u001b[39;00m\u001b[38;5;250m \u001b[39m\u001b[34;01mkeras\u001b[39;00m\u001b[34;01m.\u001b[39;00m\u001b[34;01mpreprocessing\u001b[39;00m\u001b[34;01m.\u001b[39;00m\u001b[34;01mtext\u001b[39;00m\u001b[38;5;250m \u001b[39m\u001b[38;5;28;01mimport\u001b[39;00m Tokenizer\n\u001b[32m      2\u001b[39m \u001b[38;5;28;01mfrom\u001b[39;00m\u001b[38;5;250m \u001b[39m\u001b[34;01mkeras\u001b[39;00m\u001b[34;01m.\u001b[39;00m\u001b[34;01mpreprocessing\u001b[39;00m\u001b[34;01m.\u001b[39;00m\u001b[34;01msequence\u001b[39;00m\u001b[38;5;250m \u001b[39m\u001b[38;5;28;01mimport\u001b[39;00m pad_sequences\n\u001b[32m      4\u001b[39m tokenizer = Tokenizer()\n",
      "\u001b[31mModuleNotFoundError\u001b[39m: No module named 'keras.preprocessing.text'"
     ]
    }
   ],
   "source": [
    "from tensorflow.keras.preprocessing.text import Tokenizer\n",
    "from keras.preprocessing.sequence import pad_sequences\n",
    "\n",
    "tokenizer = Tokenizer()\n",
    "tokenizer.fit_on_texts(X_train)\n",
    "\n",
    "def tokenize_X(X: pd.core.series.Series):\n",
    "    X = X.to_list()\n",
    "    X = pad_sequences(tokenizer.texts_to_sequences(X), maxlen = MAX_SEQUENCE_LENGTH)\n",
    "    return X\n"
   ]
  },
  {
   "cell_type": "code",
   "execution_count": 7,
   "id": "6ea65792",
   "metadata": {},
   "outputs": [
    {
     "data": {
      "text/plain": [
       "array(['joy', 'fear', 'anger', 'sadness'], dtype=object)"
      ]
     },
     "execution_count": 7,
     "metadata": {},
     "output_type": "execute_result"
    }
   ],
   "source": [
    "y_train.unique()"
   ]
  },
  {
   "cell_type": "code",
   "execution_count": 8,
   "id": "3f3f8110",
   "metadata": {},
   "outputs": [],
   "source": [
    "from keras.utils import to_categorical\n",
    "\n",
    "num_classes = len(np.unique(y_train))\n",
    "encoding = {'joy': 0, 'fear': 1, 'anger': 2, 'sadness': 3}\n",
    "\n",
    "def encode_y(y: pd.core.series.Series):\n",
    "    y = y.apply(lambda x: encoding[x])\n",
    "    y_enc = to_categorical(y, num_classes=num_classes)\n",
    "\n",
    "    return y_enc"
   ]
  },
  {
   "cell_type": "code",
   "execution_count": 9,
   "id": "865dbe27",
   "metadata": {},
   "outputs": [
    {
     "name": "stdout",
     "output_type": "stream",
     "text": [
      "0    got back see garydelaney burslem amaz face sti...\n",
      "1    oh dear even absolut hilar think laugh much lo...\n",
      "2                          wait week game cheer friday\n",
      "3    thank much gloria sweet thought made day joy love\n",
      "4    feel bless work famili nanni noth love amp app...\n",
      "Name: text, dtype: object\n"
     ]
    }
   ],
   "source": [
    "X_train = X_train.apply(clean_X)\n",
    "X_test = X_test.apply(clean_X)\n",
    "X_valid = X_valid.apply(clean_X)\n",
    "\n",
    "print(X_train[:5])\n",
    "\n",
    "X_train = tokenize_X(X_train)\n",
    "X_test = tokenize_X(X_test)\n",
    "X_valid = tokenize_X(X_valid)\n",
    "\n",
    "y_train = encode_y(y_train)\n",
    "y_test = encode_y(y_test)\n",
    "y_valid = encode_y(y_valid)"
   ]
  },
  {
   "cell_type": "code",
   "execution_count": 10,
   "id": "61630bab",
   "metadata": {},
   "outputs": [
    {
     "data": {
      "text/plain": [
       "(3613, 30)"
      ]
     },
     "execution_count": 10,
     "metadata": {},
     "output_type": "execute_result"
    }
   ],
   "source": [
    "X_train.shape"
   ]
  },
  {
   "cell_type": "markdown",
   "id": "f304c769",
   "metadata": {},
   "source": [
    "### Model"
   ]
  },
  {
   "cell_type": "code",
   "execution_count": 11,
   "id": "39d3131f",
   "metadata": {},
   "outputs": [],
   "source": [
    "max_features = 12000\n",
    "embedding_dim = 128\n",
    "sequence_length = 500"
   ]
  },
  {
   "cell_type": "code",
   "execution_count": 40,
   "id": "cd2ace66",
   "metadata": {},
   "outputs": [],
   "source": [
    "import keras\n",
    "from keras import layers\n",
    "from keras import regularizers\n",
    "\n",
    "def get_model():\n",
    "    model = keras.Sequential(\n",
    "        [\n",
    "            layers.Embedding(input_dim=max_features, output_dim=128, input_length=1000),\n",
    "            layers.GlobalAveragePooling1D(),\n",
    "            # tf.keras.layers.Dense(512, activation=\"relu\"),\n",
    "            # tf.keras.layers.Dense(256, activation=\"relu\"),\n",
    "            layers.Dense(128, activation=\"relu\"),\n",
    "            layers.Dropout(0.2),\n",
    "            layers.Dense(4, activation=\"softmax\")\n",
    "        ]\n",
    "    )\n",
    "\n",
    "    model.compile(loss=\"categorical_crossentropy\", optimizer=\"adam\", metrics=[\"accuracy\"])\n",
    "    return model\n",
    "\n",
    "\t"
   ]
  },
  {
   "cell_type": "code",
   "execution_count": 41,
   "id": "32717e5d",
   "metadata": {},
   "outputs": [],
   "source": [
    "def train_model(model, X_train, y_train, X_test, y_test, epochs=1, batch_size = 16):\n",
    "    fitmodel = model.fit(X_train, y_train, epochs=epochs, batch_size=batch_size, validation_data=(X_test, y_test), verbose=1, shuffle=True)\n",
    "    return fitmodel"
   ]
  },
  {
   "cell_type": "code",
   "execution_count": 42,
   "id": "ef327c52",
   "metadata": {},
   "outputs": [
    {
     "name": "stdout",
     "output_type": "stream",
     "text": [
      "Epoch 1/10\n",
      "\u001b[1m226/226\u001b[0m \u001b[32m━━━━━━━━━━━━━━━━━━━━\u001b[0m\u001b[37m\u001b[0m \u001b[1m3s\u001b[0m 11ms/step - accuracy: 0.3114 - loss: 1.3775 - val_accuracy: 0.3173 - val_loss: 1.3565\n",
      "Epoch 2/10\n",
      "\u001b[1m226/226\u001b[0m \u001b[32m━━━━━━━━━━━━━━━━━━━━\u001b[0m\u001b[37m\u001b[0m \u001b[1m2s\u001b[0m 10ms/step - accuracy: 0.3956 - loss: 1.2970 - val_accuracy: 0.4319 - val_loss: 1.2600\n",
      "Epoch 3/10\n",
      "\u001b[1m226/226\u001b[0m \u001b[32m━━━━━━━━━━━━━━━━━━━━\u001b[0m\u001b[37m\u001b[0m \u001b[1m3s\u001b[0m 11ms/step - accuracy: 0.7052 - loss: 0.8458 - val_accuracy: 0.6464 - val_loss: 0.9216\n",
      "Epoch 4/10\n",
      "\u001b[1m226/226\u001b[0m \u001b[32m━━━━━━━━━━━━━━━━━━━━\u001b[0m\u001b[37m\u001b[0m \u001b[1m3s\u001b[0m 11ms/step - accuracy: 0.8558 - loss: 0.4676 - val_accuracy: 0.6652 - val_loss: 0.8905\n",
      "Epoch 5/10\n",
      "\u001b[1m226/226\u001b[0m \u001b[32m━━━━━━━━━━━━━━━━━━━━\u001b[0m\u001b[37m\u001b[0m \u001b[1m3s\u001b[0m 11ms/step - accuracy: 0.8827 - loss: 0.3565 - val_accuracy: 0.6550 - val_loss: 0.9630\n",
      "Epoch 6/10\n",
      "\u001b[1m226/226\u001b[0m \u001b[32m━━━━━━━━━━━━━━━━━━━━\u001b[0m\u001b[37m\u001b[0m \u001b[1m3s\u001b[0m 11ms/step - accuracy: 0.9135 - loss: 0.2708 - val_accuracy: 0.6540 - val_loss: 0.9933\n",
      "Epoch 7/10\n",
      "\u001b[1m226/226\u001b[0m \u001b[32m━━━━━━━━━━━━━━━━━━━━\u001b[0m\u001b[37m\u001b[0m \u001b[1m3s\u001b[0m 11ms/step - accuracy: 0.9139 - loss: 0.2322 - val_accuracy: 0.6467 - val_loss: 1.0635\n",
      "Epoch 8/10\n",
      "\u001b[1m226/226\u001b[0m \u001b[32m━━━━━━━━━━━━━━━━━━━━\u001b[0m\u001b[37m\u001b[0m \u001b[1m3s\u001b[0m 11ms/step - accuracy: 0.9326 - loss: 0.2089 - val_accuracy: 0.6165 - val_loss: 1.2526\n",
      "Epoch 9/10\n",
      "\u001b[1m226/226\u001b[0m \u001b[32m━━━━━━━━━━━━━━━━━━━━\u001b[0m\u001b[37m\u001b[0m \u001b[1m3s\u001b[0m 11ms/step - accuracy: 0.9384 - loss: 0.1808 - val_accuracy: 0.6445 - val_loss: 1.1831\n",
      "Epoch 10/10\n",
      "\u001b[1m226/226\u001b[0m \u001b[32m━━━━━━━━━━━━━━━━━━━━\u001b[0m\u001b[37m\u001b[0m \u001b[1m3s\u001b[0m 11ms/step - accuracy: 0.9489 - loss: 0.1546 - val_accuracy: 0.6082 - val_loss: 1.4978\n",
      "\u001b[1m11/11\u001b[0m \u001b[32m━━━━━━━━━━━━━━━━━━━━\u001b[0m\u001b[37m\u001b[0m \u001b[1m0s\u001b[0m 3ms/step - accuracy: 0.5581 - loss: 1.8670 \n"
     ]
    }
   ],
   "source": [
    "model = get_model()\n",
    "\n",
    "history = train_model(model, X_train, y_train, X_test, y_test, epochs=10, batch_size=16)\n",
    "model_results = model.evaluate(X_valid, y_valid)"
   ]
  },
  {
   "cell_type": "code",
   "execution_count": 15,
   "id": "ff3efe4d",
   "metadata": {},
   "outputs": [
    {
     "data": {
      "image/png": "[encoded data removed]",
      "text/plain": [
       "<Figure size 640x480 with 1 Axes>"
      ]
     },
     "metadata": {},
     "output_type": "display_data"
    },
    {
     "data": {
      "image/png": "[encoded data removed]",
      "text/plain": [
       "<Figure size 640x480 with 1 Axes>"
      ]
     },
     "metadata": {},
     "output_type": "display_data"
    }
   ],
   "source": [
    "plt.plot(history.history['accuracy'])\n",
    "plt.plot(history.history['val_accuracy'])\n",
    "plt.title('model train vs validation loss')\n",
    "plt.ylabel('loss')\n",
    "plt.xlabel('epoch')\n",
    "plt.legend(['train', 'validation'], loc='upper right')\n",
    "plt.show()\n",
    "\n",
    "plt.plot(history.history['loss'])\n",
    "plt.plot(history.history['val_loss'])\n",
    "plt.title('model train vs validation loss')\n",
    "plt.ylabel('loss')\n",
    "plt.xlabel('epoch')\n",
    "plt.legend(['train', 'validation'], loc='upper right')\n",
    "plt.show()"
   ]
  },
  {
   "cell_type": "code",
   "execution_count": 63,
   "id": "776c0088",
   "metadata": {},
   "outputs": [
    {
     "name": "stdout",
     "output_type": "stream",
     "text": [
      "\u001b[1m1/1\u001b[0m \u001b[32m━━━━━━━━━━━━━━━━━━━━\u001b[0m\u001b[37m\u001b[0m \u001b[1m0s\u001b[0m 48ms/step\n"
     ]
    },
    {
     "data": {
      "text/plain": [
       "array([[2.1335799e-07, 5.2093598e-03, 9.9468887e-01, 1.0156216e-04]],\n",
       "      dtype=float32)"
      ]
     },
     "execution_count": 63,
     "metadata": {},
     "output_type": "execute_result"
    }
   ],
   "source": [
    "input = pd.core.series.Series(clean_X('kill kill murder kill kill evil kill gay'))\n",
    "\n",
    "output = model.predict(tokenize_X(input))\n",
    "output"
   ]
  },
  {
   "cell_type": "code",
   "execution_count": 64,
   "id": "c4a78b31",
   "metadata": {},
   "outputs": [
    {
     "data": {
      "text/plain": [
       "np.int64(2)"
      ]
     },
     "execution_count": 64,
     "metadata": {},
     "output_type": "execute_result"
    }
   ],
   "source": [
    "output.argmax()"
   ]
  },
  {
   "cell_type": "code",
   "execution_count": null,
   "id": "93365920",
   "metadata": {},
   "outputs": [],
   "source": [
    "model.save('files/model.keras')\n",
    "\n",
    "import pickle\n",
    "with open('files/tokenizer.pkl', 'wb') as tokenizer_file:\n",
    "    pickle.dump(tokenizer, tokenizer_file, protocol=pickle.HIGHEST_PROTOCOL)"
   ]
  },
  {
   "cell_type": "code",
   "execution_count": 2,
   "id": "573a20f0",
   "metadata": {},
   "outputs": [],
   "source": [
    " # Датасет который мне попался рассчитан на метод опорных векторов. Можно было бы имплементировать, но в таске указано использовать PyTorch / TensorFlow.\n",
    "\n",
    " # Борьба с переобучением бесмысслена"
   ]
  },
  {
   "cell_type": "code",
   "execution_count": null,
   "id": "38053a19",
   "metadata": {},
   "outputs": [],
   "source": []
  }
 ],
 "metadata": {
  "kernelspec": {
   "display_name": ".venv",
   "language": "python",
   "name": "python3"
  },
  "language_info": {
   "codemirror_mode": {
    "name": "ipython",
    "version": 3
   },
   "file_extension": ".py",
   "mimetype": "text/x-python",
   "name": "python",
   "nbconvert_exporter": "python",
   "pygments_lexer": "ipython3",
   "version": "3.12.3"
  }
 },
 "nbformat": 4,
 "nbformat_minor": 5
}
